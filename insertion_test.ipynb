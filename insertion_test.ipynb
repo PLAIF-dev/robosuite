{
 "cells": [
  {
   "cell_type": "code",
   "execution_count": 1,
   "metadata": {},
   "outputs": [],
   "source": [
    "import mujoco\n",
    "import numpy as np"
   ]
  },
  {
   "cell_type": "code",
   "execution_count": 2,
   "metadata": {},
   "outputs": [],
   "source": [
    "def euler2quat(euler):\n",
    "    \"\"\" Convert Euler Angles to Quaternions.  See rotation.py for notes \"\"\"\n",
    "    euler = np.asarray(euler, dtype=np.float64)\n",
    "    assert euler.shape[-1] == 3, \"Invalid shape euler {}\".format(euler)\n",
    "\n",
    "    ai, aj, ak = euler[..., 2] / 2, -euler[..., 1] / 2, euler[..., 0] / 2\n",
    "    si, sj, sk = np.sin(ai), np.sin(aj), np.sin(ak)\n",
    "    ci, cj, ck = np.cos(ai), np.cos(aj), np.cos(ak)\n",
    "    cc, cs = ci * ck, ci * sk\n",
    "    sc, ss = si * ck, si * sk\n",
    "\n",
    "    quat = np.empty(euler.shape[:-1] + (4,), dtype=np.float64)\n",
    "    quat[..., 0] = cj * cc + sj * ss\n",
    "    quat[..., 3] = cj * sc - sj * cs\n",
    "    quat[..., 2] = -(cj * ss + sj * cc)\n",
    "    quat[..., 1] = cj * cs - sj * sc\n",
    "    return quat\n",
    "\n",
    "\n",
    "def quat2euler(quat):\n",
    "    \"\"\" Convert Quaternions to Euler Angles.  See rotation.py for notes \"\"\"\n",
    "    quat = np.asarray(quat, dtype=np.float64)\n",
    "    assert quat.shape[-1] == 4, \"Invalid shape quat {}\".format(quat)\n",
    "\n",
    "    qw, qx, qy, qz = quat[..., 0], quat[..., 1], quat[..., 2], quat[..., 3]\n",
    "    ysqr = qy * qy\n",
    "\n",
    "    t0 = +2.0 * (qw * qx + qy * qz)\n",
    "    t1 = +1.0 - 2.0 * (qx * qx + ysqr)\n",
    "    X = np.arctan2(t0, t1)\n",
    "\n",
    "    t2 = +2.0 * (qw * qy - qz * qx)\n",
    "    t2 = np.clip(t2, -1.0, 1.0)\n",
    "    Y = np.arcsin(t2)\n",
    "\n",
    "    t3 = +2.0 * (qw * qz + qx * qy)\n",
    "    t4 = +1.0 - 2.0 * (ysqr + qz * qz)\n",
    "    Z = np.arctan2(t3, t4)\n",
    "\n",
    "    return np.stack((X, Y, Z), axis=-1)\n",
    "\n",
    "\n",
    "def radian_dist(start, end):\n",
    "    \"\"\" Compute the angular distance between two angles \"\"\"\n",
    "    diff = np.abs(end - start) % (2 * np.pi)\n",
    "    return np.minimum(diff, 2 * np.pi - diff)"
   ]
  },
  {
   "cell_type": "markdown",
   "metadata": {},
   "source": []
  },
  {
   "cell_type": "code",
   "execution_count": 3,
   "metadata": {},
   "outputs": [
    {
     "name": "stdout",
     "output_type": "stream",
     "text": [
      "/home/jhlee/workspace/robosuite/robosuite/__init__.py\n"
     ]
    }
   ],
   "source": [
    "import numpy as np\n",
    "import robosuite as suite\n",
    "print(suite.__file__)\n",
    "import os\n",
    "\n",
    "os.environ[\"DISPLAY\"] = \":1\"    \n",
    "\n",
    "# create environment instance\n",
    "env = suite.make(\n",
    "    env_name=\"TwoArmACInsertion\", \n",
    "    env_configuration=\"single-arm-plaif-ac\",  \n",
    "    robots=[\"RB3\", \"RB3\"],\n",
    "    controller_configs={\n",
    "        \"type\": \"OSC_POSE\",\n",
    "        \"input_max\": 1,\n",
    "        \"input_min\": -1,\n",
    "        \"output_max\": [0.05, 0.05, 0.05, 0.5, 0.5, 0.5],\n",
    "        \"output_min\": [-0.05, -0.05, -0.05, -0.5, -0.5, -0.5],\n",
    "        \"kp\": 150,\n",
    "        \"ki\": 1,\n",
    "        \"damping_ratio\": 1,\n",
    "        \"impedance_mode\": \"fixed\",\n",
    "        \"kp_limits\": [0, 300],\n",
    "        \"damping_ratio_limits\": [0, 10],\n",
    "        \"position_limits\": None,\n",
    "        \"orientation_limits\": None,\n",
    "        \"uncouple_pos_ori\": True,\n",
    "        \"control_delta\": True,\n",
    "        \"interpolation\": None,\n",
    "        \"ramp_ratio\": 0.2\n",
    "    },\n",
    "    gripper_types=[\"OnRobotRG2Gripper\", \"OnRobotRG2Gripper\"],  # try with other grippers like \"OnRobotRG2Gripper\"\n",
    "    has_renderer=True,\n",
    "    has_offscreen_renderer=False,\n",
    "    use_camera_obs=False,\n",
    "    render_gpu_device_id=0,\n",
    ")\n",
    "\n",
    "\n",
    "num_epis = 1000\n",
    "gripped = False"
   ]
  },
  {
   "cell_type": "code",
   "execution_count": 13,
   "metadata": {},
   "outputs": [
    {
     "ename": "KeyboardInterrupt",
     "evalue": "",
     "output_type": "error",
     "traceback": [
      "\u001b[0;31m---------------------------------------------------------------------------\u001b[0m",
      "\u001b[0;31mKeyboardInterrupt\u001b[0m                         Traceback (most recent call last)",
      "Cell \u001b[0;32mIn[13], line 82\u001b[0m\n\u001b[1;32m     79\u001b[0m action[\u001b[38;5;241m11\u001b[39m] \u001b[38;5;241m=\u001b[39m env\u001b[38;5;241m.\u001b[39m_plug_left_rod_end_xpos[\u001b[38;5;241m0\u001b[39m] \u001b[38;5;241m-\u001b[39m env\u001b[38;5;241m.\u001b[39m_plug_right_rod_end_xpos[\u001b[38;5;241m0\u001b[39m]\n\u001b[1;32m     80\u001b[0m action[\u001b[38;5;241m12\u001b[39m] \u001b[38;5;241m=\u001b[39m (np\u001b[38;5;241m.\u001b[39mpi\u001b[38;5;241m/\u001b[39m\u001b[38;5;241m2\u001b[39m \u001b[38;5;241m-\u001b[39mquat2euler(obs[\u001b[38;5;124m'\u001b[39m\u001b[38;5;124mplug_quat\u001b[39m\u001b[38;5;124m'\u001b[39m])[\u001b[38;5;241m0\u001b[39m])  \u001b[38;5;241m*\u001b[39m (i \u001b[38;5;241m/\u001b[39m \u001b[38;5;241m250\u001b[39m)\n\u001b[0;32m---> 82\u001b[0m obs, reward, done, info \u001b[38;5;241m=\u001b[39m \u001b[43menv\u001b[49m\u001b[38;5;241;43m.\u001b[39;49m\u001b[43mstep\u001b[49m\u001b[43m(\u001b[49m\u001b[43maction\u001b[49m\u001b[43m)\u001b[49m  \u001b[38;5;66;03m# take action in the environment\u001b[39;00m\n\u001b[1;32m     83\u001b[0m \u001b[38;5;28;01mif\u001b[39;00m i \u001b[38;5;241m%\u001b[39m \u001b[38;5;241m2\u001b[39m \u001b[38;5;241m==\u001b[39m \u001b[38;5;241m0\u001b[39m:\n\u001b[1;32m     84\u001b[0m     env\u001b[38;5;241m.\u001b[39mrender()  \u001b[38;5;66;03m# render on display\u001b[39;00m\n",
      "File \u001b[0;32m~/workspace/robosuite/robosuite/environments/base.py:394\u001b[0m, in \u001b[0;36mMujocoEnv.step\u001b[0;34m(self, action)\u001b[0m\n\u001b[1;32m    392\u001b[0m \u001b[38;5;28mself\u001b[39m\u001b[38;5;241m.\u001b[39msim\u001b[38;5;241m.\u001b[39mforward()\n\u001b[1;32m    393\u001b[0m \u001b[38;5;28mself\u001b[39m\u001b[38;5;241m.\u001b[39m_pre_action(action, policy_step)\n\u001b[0;32m--> 394\u001b[0m \u001b[38;5;28;43mself\u001b[39;49m\u001b[38;5;241;43m.\u001b[39;49m\u001b[43msim\u001b[49m\u001b[38;5;241;43m.\u001b[39;49m\u001b[43mstep\u001b[49m\u001b[43m(\u001b[49m\u001b[43m)\u001b[49m\n\u001b[1;32m    395\u001b[0m \u001b[38;5;28mself\u001b[39m\u001b[38;5;241m.\u001b[39m_update_observables()\n\u001b[1;32m    396\u001b[0m policy_step \u001b[38;5;241m=\u001b[39m \u001b[38;5;28;01mFalse\u001b[39;00m\n",
      "File \u001b[0;32m~/workspace/robosuite/robosuite/utils/binding_utils.py:1092\u001b[0m, in \u001b[0;36mMjSim.step\u001b[0;34m(self, with_udd)\u001b[0m\n\u001b[1;32m   1090\u001b[0m \u001b[38;5;28;01mdef\u001b[39;00m \u001b[38;5;21mstep\u001b[39m(\u001b[38;5;28mself\u001b[39m, with_udd\u001b[38;5;241m=\u001b[39m\u001b[38;5;28;01mTrue\u001b[39;00m):\n\u001b[1;32m   1091\u001b[0m \u001b[38;5;250m    \u001b[39m\u001b[38;5;124;03m\"\"\"Step simulation.\"\"\"\u001b[39;00m\n\u001b[0;32m-> 1092\u001b[0m     \u001b[43mmujoco\u001b[49m\u001b[38;5;241;43m.\u001b[39;49m\u001b[43mmj_step\u001b[49m\u001b[43m(\u001b[49m\u001b[38;5;28;43mself\u001b[39;49m\u001b[38;5;241;43m.\u001b[39;49m\u001b[43mmodel\u001b[49m\u001b[38;5;241;43m.\u001b[39;49m\u001b[43m_model\u001b[49m\u001b[43m,\u001b[49m\u001b[43m \u001b[49m\u001b[38;5;28;43mself\u001b[39;49m\u001b[38;5;241;43m.\u001b[39;49m\u001b[43mdata\u001b[49m\u001b[38;5;241;43m.\u001b[39;49m\u001b[43m_data\u001b[49m\u001b[43m)\u001b[49m\n",
      "\u001b[0;31mKeyboardInterrupt\u001b[0m: "
     ]
    }
   ],
   "source": [
    "obs, done = env.reset(), False\n",
    "env.render() \n",
    "\n",
    "orig_socket_xpos = env._socket_xpos.copy()\n",
    "orig_plug_xpos = env._plug_xpos.copy()\n",
    "\n",
    "orig_socket_xpos += [-0.055, -0.02, 0.005]\n",
    "orig_plug_xpos += [-0.02, 0.03, -0.022]\n",
    "\n",
    "for i in range(120):\n",
    "    action = np.random.randn(env.robots[0].dof + env.robots[1].dof) # sample random action\n",
    "    action[:] = 0\n",
    "    \n",
    "    gripper0_to_socket = orig_socket_xpos - env._eef0_xpos\n",
    "    gripper1_to_plug = orig_plug_xpos - env._eef1_xpos\n",
    "    \n",
    "    action[:3] = gripper0_to_socket\n",
    "    action[6] = 1.0\n",
    "    action[3] = 0.02 if 0 < i < 100 else 0.0\n",
    "\n",
    "    action[7:10] = gripper1_to_plug\n",
    "    action[10] = -0.03 if 0 < i < 100 else 0.0\n",
    "    action[13] = 1.0\n",
    "    \n",
    "    obs, reward, done, info = env.step(action)  # take action in the environment\n",
    "    if i % 2 == 0:\n",
    "        env.render()  # render on display\n",
    "        \n",
    "    if i == 4:\n",
    "        input()\n",
    "\n",
    "for i in range(37):\n",
    "    action = np.random.randn(env.robots[0].dof + env.robots[1].dof) # sample random action\n",
    "    action[:] = 0\n",
    "    \n",
    "    gripper0_to_socket = orig_socket_xpos - env._eef0_xpos\n",
    "    gripper1_to_plug = orig_plug_xpos - env._eef1_xpos\n",
    "    \n",
    "    action[:3] = gripper0_to_socket\n",
    "    action[6] = -1.0 if i < 26 else 0.0\n",
    "\n",
    "    action[7:10] = gripper1_to_plug\n",
    "    action[13] = -1.0\n",
    "    \n",
    "    obs, reward, done, info = env.step(action)  # take action in the environment\n",
    "    if i % 2 == 0:\n",
    "        env.render()  # render on display\n",
    "\n",
    "\n",
    "eef0_target_pos = env._eef0_xpos.copy()\n",
    "eef1_target_pos = env._eef1_xpos.copy()\n",
    "\n",
    "eef0_target_pos += [0.17, 0.355, 0.15]\n",
    "eef1_target_pos += [0.02, -0.26, 0.16]\n",
    "\n",
    "for i in range(250):\n",
    "    action = np.random.randn(env.robots[0].dof + env.robots[1].dof) # sample random action\n",
    "    action[:] = 0\n",
    "    action[:3] = eef0_target_pos - env._eef0_xpos\n",
    "    \n",
    "    plug_to_socket_err = (env._socket_right_hole_end_xpos - env._plug_left_rod_end_xpos + env._socket_left_hole_end_xpos - env._plug_right_rod_end_xpos)/2\n",
    "    if np.linalg.norm(plug_to_socket_err, 2) > 0.02 and i > 50:\n",
    "        eef0_yz_align = np.clip(plug_to_socket_err, -(i-50) * 0.1 / 200, (i-50) * 0.1 / 200)\n",
    "        action[0] -= eef0_yz_align[0]\n",
    "        action[2] -= eef0_yz_align[2]\n",
    "    \n",
    "    action[7:10] = eef1_target_pos - env._eef1_xpos\n",
    "    if i > 50:\n",
    "        eef1_yz_align = np.clip(plug_to_socket_err, -(i-50) * 0.1 / 200, (i-50) * 0.1 / 200)\n",
    "        action[7] += eef1_yz_align[0]\n",
    "        action[9] += eef1_yz_align[2]\n",
    "    \n",
    "    # Level the socket\n",
    "    action[3] = -quat2euler(obs['socket_quat'])[1] * (i / 250)\n",
    "    action[4] = env._socket_right_hole_enter_xpos[0] - env._socket_left_hole_enter_xpos[0]\n",
    "    action[5] = (np.pi/2 - quat2euler(obs['socket_quat'])[0])  * (i / 250)\n",
    "    \n",
    "    #print(f\"\\rSocket Rotations: {quat2euler(obs['socket_quat'])[1]:.6f}, {env._socket_right_hole_enter_xpos[0] - env._socket_left_hole_enter_xpos[0]:.6f}, {quat2euler(obs['socket_quat'])[0]:.6f}\", end=\"\", flush=True)\n",
    "    \n",
    "    # Level the plug\n",
    "    action[10] = -quat2euler(obs['plug_quat'])[1]  * (i / 250)\n",
    "    action[11] = env._plug_left_rod_end_xpos[0] - env._plug_right_rod_end_xpos[0]\n",
    "    action[12] = (np.pi/2 -quat2euler(obs['plug_quat'])[0])  * (i / 250)\n",
    "    \n",
    "    obs, reward, done, info = env.step(action)  # take action in the environment\n",
    "    if i % 2 == 0:\n",
    "        env.render()  # render on display\n",
    "\n",
    "env._socket_right_hole_enter_xpos, env._socket_left_hole_enter_xpos, env._plug_right_rod_end_xpos, env._plug_left_rod_end_xpos\n",
    "\n",
    "for i in range(200):\n",
    "    action = np.random.randn(env.robots[0].dof + env.robots[1].dof) # sample random action\n",
    "    action[:] = 0.\n",
    "    \n",
    "    plug_to_socket_err = env._socket_right_hole_end_xpos - env._plug_left_rod_end_xpos + env._socket_left_hole_end_xpos - env._plug_right_rod_end_xpos\n",
    "    print(f\"\\r{plug_to_socket_err[0]:.6f}, {plug_to_socket_err[2]:.6f}\", end=\"\", flush=True)\n",
    "    \n",
    "    if abs(plug_to_socket_err[0]) < 0.003 and abs(plug_to_socket_err[2]) < 0.003:\n",
    "        action[7:10] = env._socket_right_hole_end_xpos - env._plug_left_rod_end_xpos\n",
    "    else:\n",
    "        action[7:10] = plug_to_socket_err\n",
    "        \n",
    "    \n",
    "    #print(f\"\\rSocket Rotations: {quat2euler(obs['socket_quat'])[1]:.6f}, {env._socket_right_hole_enter_xpos[0] - env._socket_left_hole_enter_xpos[0]:.6f}, {quat2euler(obs['socket_quat'])[0]:.6f}\", end=\"\", flush=True)\n",
    "    \n",
    "    # Level the plug\n",
    "    action[10] = -quat2euler(obs['plug_quat'])[1]  * (i / 250)\n",
    "    action[11] = env._plug_left_rod_end_xpos[0] - env._plug_right_rod_end_xpos[0]\n",
    "    action[12] = (np.pi/2 -quat2euler(obs['plug_quat'])[0])  * (i / 250)\n",
    "    \n",
    "    obs, reward, done, info = env.step(action)  # take action in the environment\n",
    "    if i % 2 == 0:\n",
    "        env.render()  # render on display"
   ]
  },
  {
   "cell_type": "code",
   "execution_count": null,
   "metadata": {},
   "outputs": [
    {
     "data": {
      "text/plain": [
       "array([ 0.01011304, -0.0200783 ,  0.00076679])"
      ]
     },
     "execution_count": 171,
     "metadata": {},
     "output_type": "execute_result"
    }
   ],
   "source": [
    "env._socket_right_hole_enter_xpos - env._plug_left_rod_end_xpos"
   ]
  },
  {
   "cell_type": "code",
   "execution_count": null,
   "metadata": {},
   "outputs": [
    {
     "data": {
      "text/plain": [
       "array([ 0.00288374, -0.02807382,  0.00329946])"
      ]
     },
     "execution_count": 131,
     "metadata": {},
     "output_type": "execute_result"
    }
   ],
   "source": [
    "env._socket_right_hole_enter_xpos - env._plug_left_rod_end_xpos"
   ]
  },
  {
   "cell_type": "code",
   "execution_count": null,
   "metadata": {},
   "outputs": [
    {
     "data": {
      "text/plain": [
       "array([ 0.01725393, -0.00210556, -0.00467637])"
      ]
     },
     "execution_count": 54,
     "metadata": {},
     "output_type": "execute_result"
    }
   ],
   "source": [
    "env._plug_right_rod_end_xpos - env._plug_left_rod_end_xpos"
   ]
  },
  {
   "cell_type": "code",
   "execution_count": null,
   "metadata": {},
   "outputs": [
    {
     "data": {
      "text/plain": [
       "array([ 0.98467799, -0.00946533, -0.12808747, -0.11795449])"
      ]
     },
     "execution_count": 29,
     "metadata": {},
     "output_type": "execute_result"
    }
   ],
   "source": [
    "euler2quat([-0.05048157, -0.25269768, -0.24485742])"
   ]
  },
  {
   "cell_type": "code",
   "execution_count": null,
   "metadata": {},
   "outputs": [
    {
     "data": {
      "text/plain": [
       "array([0.05048157, 0.25269768, 0.24485742])"
      ]
     },
     "execution_count": 18,
     "metadata": {},
     "output_type": "execute_result"
    }
   ],
   "source": [
    "radian_dist(np.array([np.pi / 2, 0.0, np.pi]), quat2euler(obs['plug_quat']))"
   ]
  },
  {
   "cell_type": "code",
   "execution_count": null,
   "metadata": {},
   "outputs": [
    {
     "data": {
      "text/plain": [
       "array([ 1.48030648, -0.85601697,  2.93845464])"
      ]
     },
     "execution_count": 26,
     "metadata": {},
     "output_type": "execute_result"
    }
   ],
   "source": [
    "quat2euler(obs['plug_quat'])"
   ]
  },
  {
   "cell_type": "code",
   "execution_count": null,
   "metadata": {},
   "outputs": [
    {
     "data": {
      "text/plain": [
       "(array([-0.07583044,  0.0151538 ,  0.96599215]),\n",
       " array([-0.09311209,  0.01670997,  0.97077994]))"
      ]
     },
     "execution_count": 64,
     "metadata": {},
     "output_type": "execute_result"
    }
   ],
   "source": [
    "env._plug_right_rod_end_xpos, env._plug_left_rod_end_xpos"
   ]
  },
  {
   "cell_type": "code",
   "execution_count": null,
   "metadata": {},
   "outputs": [
    {
     "data": {
      "text/plain": [
       "(array([0.02496851, 0.13615307, 0.88635005]),\n",
       " array([-0.49432118,  0.63467768,  0.53096261]))"
      ]
     },
     "execution_count": 12,
     "metadata": {},
     "output_type": "execute_result"
    }
   ],
   "source": [
    "eef1_target_pos, env._eef1_xpos"
   ]
  },
  {
   "cell_type": "code",
   "execution_count": null,
   "metadata": {},
   "outputs": [
    {
     "data": {
      "text/plain": [
       "(array([-0.04908186, -0.00921243, -0.07480898]),\n",
       " array([-0.02198683,  0.00997145, -0.07505174]))"
      ]
     },
     "execution_count": 99,
     "metadata": {},
     "output_type": "execute_result"
    }
   ],
   "source": [
    "gripper0_to_socket, gripper1_to_plug"
   ]
  },
  {
   "cell_type": "code",
   "execution_count": null,
   "metadata": {},
   "outputs": [
    {
     "data": {
      "text/plain": [
       "array([-0.21325114, -0.11081225, -0.10482947])"
      ]
     },
     "execution_count": 7,
     "metadata": {},
     "output_type": "execute_result"
    }
   ],
   "source": [
    "env._gripper0_to_socket"
   ]
  },
  {
   "cell_type": "code",
   "execution_count": null,
   "metadata": {},
   "outputs": [
    {
     "data": {
      "text/plain": [
       "0.02223675777061951"
      ]
     },
     "execution_count": 8,
     "metadata": {},
     "output_type": "execute_result"
    }
   ],
   "source": [
    "(quat2euler(obs['socket_quat'])[2]) - (quat2euler(env._eef0_xquat)[2])"
   ]
  },
  {
   "cell_type": "code",
   "execution_count": null,
   "metadata": {},
   "outputs": [
    {
     "data": {
      "text/plain": [
       "array([-0.13263278, -0.33340188,  0.79895678])"
      ]
     },
     "execution_count": 9,
     "metadata": {},
     "output_type": "execute_result"
    }
   ],
   "source": [
    "obs['socket_pos']"
   ]
  },
  {
   "cell_type": "code",
   "execution_count": null,
   "metadata": {},
   "outputs": [
    {
     "data": {
      "text/plain": [
       "array([0.00337672, 0.33264879, 0.81853002])"
      ]
     },
     "execution_count": 10,
     "metadata": {},
     "output_type": "execute_result"
    }
   ],
   "source": [
    "obs['plug_pos']"
   ]
  },
  {
   "cell_type": "code",
   "execution_count": null,
   "metadata": {},
   "outputs": [
    {
     "data": {
      "text/plain": [
       "array([-0.13263278, -0.33340188,  0.79895678])"
      ]
     },
     "execution_count": 11,
     "metadata": {},
     "output_type": "execute_result"
    }
   ],
   "source": [
    "obs['socket_pos']"
   ]
  },
  {
   "cell_type": "code",
   "execution_count": null,
   "metadata": {},
   "outputs": [
    {
     "data": {
      "text/plain": [
       "array([ 0.9999875 ,  0.        , -0.        ,  0.00499998])"
      ]
     },
     "execution_count": 12,
     "metadata": {},
     "output_type": "execute_result"
    }
   ],
   "source": [
    "euler2quat([0, 0, 0.01])"
   ]
  },
  {
   "cell_type": "code",
   "execution_count": null,
   "metadata": {},
   "outputs": [
    {
     "data": {
      "text/plain": [
       "array([ 3.18459919, -0.03332776,  0.02223676])"
      ]
     },
     "execution_count": 13,
     "metadata": {},
     "output_type": "execute_result"
    }
   ],
   "source": [
    "quat2euler(obs['socket_quat']) - quat2euler(env._eef0_xquat)"
   ]
  },
  {
   "cell_type": "code",
   "execution_count": null,
   "metadata": {},
   "outputs": [],
   "source": []
  },
  {
   "cell_type": "code",
   "execution_count": null,
   "metadata": {},
   "outputs": [
    {
     "ename": "SyntaxError",
     "evalue": "invalid syntax (3235626708.py, line 2)",
     "output_type": "error",
     "traceback": [
      "\u001b[0;36m  Cell \u001b[0;32mIn[14], line 2\u001b[0;36m\u001b[0m\n\u001b[0;31m    env.robots[1].robot_model.\u001b[0m\n\u001b[0m                              ^\u001b[0m\n\u001b[0;31mSyntaxError\u001b[0m\u001b[0;31m:\u001b[0m invalid syntax\n"
     ]
    }
   ],
   "source": [
    "# get xpos\n",
    "env.robots[1].robot_model."
   ]
  },
  {
   "cell_type": "code",
   "execution_count": null,
   "metadata": {},
   "outputs": [
    {
     "data": {
      "text/plain": [
       "OrderedDict([('robot0_joint_pos_cos',\n",
       "              array([-0.99989242,  0.99997616, -0.00379826,  0.99996917,  0.03799365,\n",
       "                      0.99948689])),\n",
       "             ('robot0_joint_pos_sin',\n",
       "              array([-0.01466761, -0.00690534, -0.99999279, -0.00785187, -0.99927798,\n",
       "                      0.03203055])),\n",
       "             ('robot0_joint_vel',\n",
       "              array([ 0.02652421,  0.09659377,  0.28638858,  0.1763355 ,  0.21132374,\n",
       "                     -0.0228806 ])),\n",
       "             ('robot0_eef_pos',\n",
       "              array([ 0.12085572, -0.17620251,  0.92856047])),\n",
       "             ('robot0_eef_quat',\n",
       "              array([-0.99986911,  0.00863183, -0.00379517,  0.01314697])),\n",
       "             ('robot0_gripper_qpos',\n",
       "              array([ 0.33268597, -0.46095247,  0.30345942, -0.30537047,  0.3799224 ,\n",
       "                     -0.2610874 ])),\n",
       "             ('robot0_gripper_qvel',\n",
       "              array([-0.62562137,  1.85819565, -0.66827422,  0.13675126, -0.70133711,\n",
       "                      0.55024448])),\n",
       "             ('robot1_joint_pos_cos',\n",
       "              array([-0.99999882,  0.99990502,  0.00454575,  0.99966168,  0.00357406,\n",
       "                      0.99999917])),\n",
       "             ('robot1_joint_pos_sin',\n",
       "              array([-0.00153674,  0.01378218, -0.99998967, -0.02601027, -0.99999361,\n",
       "                      0.0012863 ])),\n",
       "             ('robot1_joint_vel',\n",
       "              array([-0.00236724, -0.14992963, -0.1334779 , -0.21123084,  0.30886685,\n",
       "                      0.0238618 ])),\n",
       "             ('robot1_eef_pos', array([0.12925538, 0.1834893 , 0.93904222])),\n",
       "             ('robot1_eef_quat',\n",
       "              array([-4.94614860e-05,  9.99858464e-01, -1.09424281e-02, -1.27794158e-02])),\n",
       "             ('robot1_gripper_qpos',\n",
       "              array([ 0.31500781, -0.40109219,  0.29095476, -0.28569251,  0.32266637,\n",
       "                     -0.24748015])),\n",
       "             ('robot1_gripper_qvel',\n",
       "              array([ 0.70666189,  0.82085694,  1.31730172, -1.05151922,  0.10190063,\n",
       "                     -1.18211824])),\n",
       "             ('plug_pos', array([0.0050317 , 0.33184555, 0.81836001])),\n",
       "             ('plug_quat',\n",
       "              array([-0.04519482,  0.030529  ,  0.83174063,  0.5524789 ])),\n",
       "             ('socket_pos', array([-0.13876961, -0.33820555,  0.79888573])),\n",
       "             ('socket_quat',\n",
       "              array([3.85157539e-04, 5.22082144e-04, 5.32205469e-01, 8.46614976e-01])),\n",
       "             ('gripper0_to_socket', array([0., 0., 0.])),\n",
       "             ('gripper1_to_plug', array([0., 0., 0.])),\n",
       "             ('robot0_proprio-state',\n",
       "              array([-0.99989242,  0.99997616, -0.00379826,  0.99996917,  0.03799365,\n",
       "                      0.99948689, -0.01466761, -0.00690534, -0.99999279, -0.00785187,\n",
       "                     -0.99927798,  0.03203055,  0.02652421,  0.09659377,  0.28638858,\n",
       "                      0.1763355 ,  0.21132374, -0.0228806 ,  0.12085572, -0.17620251,\n",
       "                      0.92856047, -0.99986911,  0.00863183, -0.00379517,  0.01314697,\n",
       "                      0.33268597, -0.46095247,  0.30345942, -0.30537047,  0.3799224 ,\n",
       "                     -0.2610874 , -0.62562137,  1.85819565, -0.66827422,  0.13675126,\n",
       "                     -0.70133711,  0.55024448])),\n",
       "             ('robot1_proprio-state',\n",
       "              array([-9.99998819e-01,  9.99905021e-01,  4.54574851e-03,  9.99661676e-01,\n",
       "                      3.57406092e-03,  9.99999173e-01, -1.53674075e-03,  1.37821807e-02,\n",
       "                     -9.99989668e-01, -2.60102662e-02, -9.99993613e-01,  1.28629733e-03,\n",
       "                     -2.36723912e-03, -1.49929630e-01, -1.33477902e-01, -2.11230844e-01,\n",
       "                      3.08866853e-01,  2.38617959e-02,  1.29255376e-01,  1.83489302e-01,\n",
       "                      9.39042223e-01, -4.94614860e-05,  9.99858464e-01, -1.09424281e-02,\n",
       "                     -1.27794158e-02,  3.15007811e-01, -4.01092189e-01,  2.90954755e-01,\n",
       "                     -2.85692507e-01,  3.22666374e-01, -2.47480153e-01,  7.06661891e-01,\n",
       "                      8.20856938e-01,  1.31730172e+00, -1.05151922e+00,  1.01900635e-01,\n",
       "                     -1.18211824e+00])),\n",
       "             ('object-state',\n",
       "              array([ 5.03170108e-03,  3.31845549e-01,  8.18360012e-01, -4.51948221e-02,\n",
       "                      3.05289971e-02,  8.31740628e-01,  5.52478902e-01, -1.38769613e-01,\n",
       "                     -3.38205551e-01,  7.98885726e-01,  3.85157539e-04,  5.22082144e-04,\n",
       "                      5.32205469e-01,  8.46614976e-01,  0.00000000e+00,  0.00000000e+00,\n",
       "                      0.00000000e+00,  0.00000000e+00,  0.00000000e+00,  0.00000000e+00]))])"
      ]
     },
     "execution_count": 5,
     "metadata": {},
     "output_type": "execute_result"
    }
   ],
   "source": []
  }
 ],
 "metadata": {
  "kernelspec": {
   "display_name": "serl",
   "language": "python",
   "name": "python3"
  },
  "language_info": {
   "codemirror_mode": {
    "name": "ipython",
    "version": 3
   },
   "file_extension": ".py",
   "mimetype": "text/x-python",
   "name": "python",
   "nbconvert_exporter": "python",
   "pygments_lexer": "ipython3",
   "version": "3.10.14"
  }
 },
 "nbformat": 4,
 "nbformat_minor": 2
}
